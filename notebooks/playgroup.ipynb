{
 "cells": [
  {
   "cell_type": "code",
   "execution_count": 1,
   "metadata": {},
   "outputs": [
    {
     "name": "stderr",
     "output_type": "stream",
     "text": [
      "/Users/yonatan/.conda/envs/nlp_final_project/lib/python3.13/site-packages/tqdm/auto.py:21: TqdmWarning: IProgress not found. Please update jupyter and ipywidgets. See https://ipywidgets.readthedocs.io/en/stable/user_install.html\n",
      "  from .autonotebook import tqdm as notebook_tqdm\n"
     ]
    }
   ],
   "source": [
    "import os, sys, torch\n",
    "from transformers import AutoModel, AutoTokenizer\n",
    "from omegaconf import DictConfig, OmegaConf\n",
    "from hydra.utils import instantiate"
   ]
  },
  {
   "cell_type": "code",
   "execution_count": 2,
   "metadata": {},
   "outputs": [],
   "source": [
    "sys.path.append(\"../\")\n",
    "from src.model_head import HistoricalTextDatingModel, create_model_head_config\n",
    "from src.utils import init_tracker, DataLoadAndFilter\n"
   ]
  },
  {
   "cell_type": "code",
   "execution_count": 3,
   "metadata": {},
   "outputs": [],
   "source": [
    "# 1) Set your checkpoint path here\n",
    "ckpt_base_path = \"../outputs/google-bert/bert-base-multilingual-cased/2025-09-15/23-08-03/\"\n",
    "ckpt_path = ckpt_base_path + \"bert_DatePredictionHead_trainingFalse_encoder_hidden_size768_num_classes36_pooling_strategycls_min_date1000_max_date2024_normalize_outputTrue_dropout_rate0.1_frozen.pt\"\n",
    "config_path = ckpt_base_path + \".hydra/config.yaml\"\n",
    "if not os.path.exists(ckpt_path):\n",
    "    raise FileNotFoundError(f\"Checkpoint path does not exist: {ckpt_path}\")\n",
    "if not os.path.exists(config_path):\n",
    "    raise FileNotFoundError(f\"Config path does not exist: {config_path}\")\n",
    "device = torch.device(\"cuda\" if torch.cuda.is_available() else \"cpu\")"
   ]
  },
  {
   "cell_type": "code",
   "execution_count": 4,
   "metadata": {},
   "outputs": [],
   "source": [
    "ckpt = torch.load(ckpt_path, map_location=device)"
   ]
  },
  {
   "cell_type": "code",
   "execution_count": 5,
   "metadata": {},
   "outputs": [],
   "source": [
    "cfg = OmegaConf.load(config_path)"
   ]
  },
  {
   "cell_type": "code",
   "execution_count": 15,
   "metadata": {},
   "outputs": [
    {
     "name": "stdout",
     "output_type": "stream",
     "text": [
      "Error loading schema ../data/raw/SefariaData/Sefaria-Export-master/schemas/Sheet.json: Expecting value: line 1 column 1 (char 0)\n"
     ]
    },
    {
     "name": "stderr",
     "output_type": "stream",
     "text": [
      "Loading Sefaria texts: 100%|██████████| 100/100 [00:02<00:00, 37.49it/s]\n"
     ]
    },
    {
     "name": "stdout",
     "output_type": "stream",
     "text": [
      "Loaded 50 text samples from Sefaria dataset\n"
     ]
    },
    {
     "name": "stderr",
     "output_type": "stream",
     "text": [
      "Loading Ben Yehuda texts: 100%|██████████| 100/100 [00:00<00:00, 2762.83it/s]\n"
     ]
    }
   ],
   "source": [
    "\n",
    "# Load the model and tokenizer\n",
    "tokenizer = instantiate(cfg.model.tokenizer)\n",
    "encoder = instantiate(cfg.model.encoder)\n",
    "\n",
    "model_head_config = create_model_head_config(**cfg.model.model_head.head_config)\n",
    "\n",
    "# Load datasets using the data loader\n",
    "data_loader = DataLoadAndFilter(cfg)\n",
    "train_dataset, eval_dataset = data_loader.create_tokenized_datasets(tokenizer, base_path=\"../\")\n",
    "\n",
    "model_head_config[\"num_classes\"] = len(train_dataset[0][1])\n"
   ]
  },
  {
   "cell_type": "code",
   "execution_count": 16,
   "metadata": {},
   "outputs": [
    {
     "data": {
      "text/plain": [
       "{'hidden_sizes': [384, 128], 'dropout_rate': 0.1, 'activation': 'relu', 'pooling_strategy': 'cls', 'min_date': 1000, 'max_date': 2024, 'normalize_output': True, 'num_classes': 36}"
      ]
     },
     "execution_count": 16,
     "metadata": {},
     "output_type": "execute_result"
    }
   ],
   "source": [
    "model_head_config"
   ]
  },
  {
   "cell_type": "code",
   "execution_count": 17,
   "metadata": {},
   "outputs": [],
   "source": [
    "model = HistoricalTextDatingModel(\n",
    "    encoder=encoder,\n",
    "    head_config=model_head_config,\n",
    "    freeze_encoder=True,  # Freeze encoder to not change bert\n",
    ")"
   ]
  },
  {
   "cell_type": "code",
   "execution_count": 18,
   "metadata": {},
   "outputs": [],
   "source": [
    "def _clean_state_dict(state_dict: dict) -> dict:\n",
    "    if not any(k.startswith(\"module.\") for k in state_dict.keys()):\n",
    "        return state_dict\n",
    "    return {k.replace(\"module.\", \"\", 1): v for k, v in state_dict.items()}"
   ]
  },
  {
   "cell_type": "code",
   "execution_count": 21,
   "metadata": {},
   "outputs": [],
   "source": [
    "clean_ckpt = _clean_state_dict(ckpt)"
   ]
  },
  {
   "cell_type": "code",
   "execution_count": 22,
   "metadata": {},
   "outputs": [
    {
     "data": {
      "text/plain": [
       "HistoricalTextDatingModel(\n",
       "  (encoder): BertModel(\n",
       "    (embeddings): BertEmbeddings(\n",
       "      (word_embeddings): Embedding(119547, 768, padding_idx=0)\n",
       "      (position_embeddings): Embedding(512, 768)\n",
       "      (token_type_embeddings): Embedding(2, 768)\n",
       "      (LayerNorm): LayerNorm((768,), eps=1e-12, elementwise_affine=True)\n",
       "      (dropout): Dropout(p=0.1, inplace=False)\n",
       "    )\n",
       "    (encoder): BertEncoder(\n",
       "      (layer): ModuleList(\n",
       "        (0-11): 12 x BertLayer(\n",
       "          (attention): BertAttention(\n",
       "            (self): BertSdpaSelfAttention(\n",
       "              (query): Linear(in_features=768, out_features=768, bias=True)\n",
       "              (key): Linear(in_features=768, out_features=768, bias=True)\n",
       "              (value): Linear(in_features=768, out_features=768, bias=True)\n",
       "              (dropout): Dropout(p=0.1, inplace=False)\n",
       "            )\n",
       "            (output): BertSelfOutput(\n",
       "              (dense): Linear(in_features=768, out_features=768, bias=True)\n",
       "              (LayerNorm): LayerNorm((768,), eps=1e-12, elementwise_affine=True)\n",
       "              (dropout): Dropout(p=0.1, inplace=False)\n",
       "            )\n",
       "          )\n",
       "          (intermediate): BertIntermediate(\n",
       "            (dense): Linear(in_features=768, out_features=3072, bias=True)\n",
       "            (intermediate_act_fn): GELUActivation()\n",
       "          )\n",
       "          (output): BertOutput(\n",
       "            (dense): Linear(in_features=3072, out_features=768, bias=True)\n",
       "            (LayerNorm): LayerNorm((768,), eps=1e-12, elementwise_affine=True)\n",
       "            (dropout): Dropout(p=0.1, inplace=False)\n",
       "          )\n",
       "        )\n",
       "      )\n",
       "    )\n",
       "    (pooler): BertPooler(\n",
       "      (dense): Linear(in_features=768, out_features=768, bias=True)\n",
       "      (activation): Tanh()\n",
       "    )\n",
       "  )\n",
       "  (head): DatePredictionHead(\n",
       "    (activation): ReLU()\n",
       "    (head): Sequential(\n",
       "      (0): Linear(in_features=768, out_features=384, bias=True)\n",
       "      (1): ReLU()\n",
       "      (2): Dropout(p=0.1, inplace=False)\n",
       "      (3): Linear(in_features=384, out_features=128, bias=True)\n",
       "      (4): ReLU()\n",
       "      (5): Dropout(p=0.1, inplace=False)\n",
       "      (6): Linear(in_features=128, out_features=36, bias=True)\n",
       "    )\n",
       "  )\n",
       ")"
      ]
     },
     "execution_count": 22,
     "metadata": {},
     "output_type": "execute_result"
    }
   ],
   "source": [
    "missing, unexpected = model.load_state_dict(clean_ckpt, strict=False)\n",
    "if missing:\n",
    "    print(f\"[load_state_dict] Missing keys: {len(missing)} (showing first 10)\\n\", missing[:10])\n",
    "if unexpected:\n",
    "    print(f\"[load_state_dict] Unexpected keys: {len(unexpected)} (showing first 10)\\n\", unexpected[:10])\n",
    "model.eval()\n"
   ]
  },
  {
   "cell_type": "code",
   "execution_count": 23,
   "metadata": {},
   "outputs": [
    {
     "name": "stdout",
     "output_type": "stream",
     "text": [
      "Model loaded to: cpu\n"
     ]
    }
   ],
   "source": [
    "print(\"Model loaded to:\", device)\n"
   ]
  },
  {
   "cell_type": "code",
   "execution_count": 30,
   "metadata": {},
   "outputs": [],
   "source": [
    "\n",
    "def predict_date(text: str) -> float:\n",
    "    inputs = tokenizer(text, return_tensors=\"pt\", padding=True, truncation=True, max_length=256)\n",
    "    inputs = {k: v.to(device) for k, v in inputs.items()}\n",
    "    with torch.no_grad():\n",
    "        preds, _ = model(input_ids=inputs[\"input_ids\"], attention_mask=inputs.get(\"attention_mask\"))\n",
    "    # preds shape: (batch,) -> take scalar\n",
    "    return preds[0]"
   ]
  },
  {
   "cell_type": "code",
   "execution_count": null,
   "metadata": {},
   "outputs": [],
   "source": [
    "example_text = \"This is a sample historical text snippet to test the model.\"\n",
    "print(\"Predicted date:\", predict_date(example_text))\n"
   ]
  }
 ],
 "metadata": {
  "kernelspec": {
   "display_name": "nlp_final_project",
   "language": "python",
   "name": "python3"
  },
  "language_info": {
   "codemirror_mode": {
    "name": "ipython",
    "version": 3
   },
   "file_extension": ".py",
   "mimetype": "text/x-python",
   "name": "python",
   "nbconvert_exporter": "python",
   "pygments_lexer": "ipython3",
   "version": "3.13.5"
  }
 },
 "nbformat": 4,
 "nbformat_minor": 2
}
