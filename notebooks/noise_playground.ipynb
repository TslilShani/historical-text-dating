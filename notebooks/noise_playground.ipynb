{
 "cells": [
  {
   "cell_type": "code",
   "execution_count": 1,
   "metadata": {},
   "outputs": [
    {
     "name": "stderr",
     "output_type": "stream",
     "text": [
      "/Users/yonatan/.conda/envs/nlp_final_project/lib/python3.13/site-packages/tqdm/auto.py:21: TqdmWarning: IProgress not found. Please update jupyter and ipywidgets. See https://ipywidgets.readthedocs.io/en/stable/user_install.html\n",
      "  from .autonotebook import tqdm as notebook_tqdm\n"
     ]
    }
   ],
   "source": [
    "import os, sys, torch\n",
    "from transformers import AutoModel, AutoTokenizer, AutoModelForMaskedLM\n",
    "from omegaconf import DictConfig, OmegaConf\n",
    "from hydra.utils import instantiate"
   ]
  },
  {
   "cell_type": "code",
   "execution_count": 2,
   "metadata": {},
   "outputs": [],
   "source": [
    "sys.path.append(\"../\")\n",
    "from src.models.noised_encoder import NoisedEncoder\n"
   ]
  },
  {
   "cell_type": "code",
   "execution_count": 3,
   "metadata": {},
   "outputs": [],
   "source": [
    "# 1) Set your checkpoint path here\n",
    "ckpt_base_path = \"../outputs/noise-adding/google-bert/bert-base-multilingual-cased/2025-09-22/04-45-25/\"\n",
    "ckpt_path = ckpt_base_path + \"None_noise_std0.01_noise_typegaussian.pt\"\n",
    "config_path = ckpt_base_path + \".hydra/config.yaml\"\n",
    "\n",
    "if not os.path.exists(ckpt_path):\n",
    "    raise FileNotFoundError(f\"Checkpoint path does not exist: {ckpt_path}\")\n",
    "if not os.path.exists(config_path):\n",
    "    raise FileNotFoundError(f\"Config path does not exist: {config_path}\")\n",
    "device = torch.device(\"cuda\" if torch.cuda.is_available() else \"cpu\")"
   ]
  },
  {
   "cell_type": "code",
   "execution_count": 4,
   "metadata": {},
   "outputs": [],
   "source": [
    "ckpt = torch.load(ckpt_path, map_location=device)\n",
    "cfg = OmegaConf.load(config_path)"
   ]
  },
  {
   "cell_type": "code",
   "execution_count": 27,
   "metadata": {},
   "outputs": [
    {
     "name": "stderr",
     "output_type": "stream",
     "text": [
      "Some weights of the model checkpoint at google-bert/bert-base-multilingual-cased were not used when initializing BertForMaskedLM: ['bert.pooler.dense.bias', 'bert.pooler.dense.weight', 'cls.seq_relationship.bias', 'cls.seq_relationship.weight']\n",
      "- This IS expected if you are initializing BertForMaskedLM from the checkpoint of a model trained on another task or with another architecture (e.g. initializing a BertForSequenceClassification model from a BertForPreTraining model).\n",
      "- This IS NOT expected if you are initializing BertForMaskedLM from the checkpoint of a model that you expect to be exactly identical (initializing a BertForSequenceClassification model from a BertForSequenceClassification model).\n",
      "Some weights of the model checkpoint at google-bert/bert-base-multilingual-cased were not used when initializing BertForMaskedLM: ['bert.pooler.dense.bias', 'bert.pooler.dense.weight', 'cls.seq_relationship.bias', 'cls.seq_relationship.weight']\n",
      "- This IS expected if you are initializing BertForMaskedLM from the checkpoint of a model trained on another task or with another architecture (e.g. initializing a BertForSequenceClassification model from a BertForPreTraining model).\n",
      "- This IS NOT expected if you are initializing BertForMaskedLM from the checkpoint of a model that you expect to be exactly identical (initializing a BertForSequenceClassification model from a BertForSequenceClassification model).\n"
     ]
    }
   ],
   "source": [
    "# Load the model and tokenizer\n",
    "tokenizer = instantiate(cfg.model.tokenizer)\n",
    "encoder = instantiate(cfg.model.encoder)\n",
    "noised_encoder = instantiate(cfg.model.encoder)"
   ]
  },
  {
   "cell_type": "code",
   "execution_count": 19,
   "metadata": {},
   "outputs": [],
   "source": [
    "original_std = cfg.training.noise.noise_std"
   ]
  },
  {
   "cell_type": "code",
   "execution_count": 50,
   "metadata": {},
   "outputs": [],
   "source": [
    "cfg.training.noise.noise_std = 0.005"
   ]
  },
  {
   "cell_type": "code",
   "execution_count": 51,
   "metadata": {},
   "outputs": [
    {
     "name": "stderr",
     "output_type": "stream",
     "text": [
      "Some weights of the model checkpoint at google-bert/bert-base-multilingual-cased were not used when initializing BertForMaskedLM: ['bert.pooler.dense.bias', 'bert.pooler.dense.weight', 'cls.seq_relationship.bias', 'cls.seq_relationship.weight']\n",
      "- This IS expected if you are initializing BertForMaskedLM from the checkpoint of a model trained on another task or with another architecture (e.g. initializing a BertForSequenceClassification model from a BertForPreTraining model).\n",
      "- This IS NOT expected if you are initializing BertForMaskedLM from the checkpoint of a model that you expect to be exactly identical (initializing a BertForSequenceClassification model from a BertForSequenceClassification model).\n"
     ]
    }
   ],
   "source": [
    "\n",
    "temp_encoder = instantiate(cfg.model.encoder)\n",
    "new_noised_encoder = NoisedEncoder(cfg, temp_encoder)"
   ]
  },
  {
   "cell_type": "code",
   "execution_count": 32,
   "metadata": {},
   "outputs": [],
   "source": [
    "def _clean_state_dict(state_dict: dict) -> dict:\n",
    "    if not any(k.startswith(\"encoder.\") for k in state_dict.keys()):\n",
    "        return state_dict\n",
    "    return {k.replace(\"encoder.\", \"\", 1): v for k, v in state_dict.items()}\n",
    "clean_ckpt = _clean_state_dict(ckpt)"
   ]
  },
  {
   "cell_type": "code",
   "execution_count": 33,
   "metadata": {},
   "outputs": [
    {
     "name": "stdout",
     "output_type": "stream",
     "text": [
      "Model loaded to: cpu\n"
     ]
    }
   ],
   "source": [
    "# Load state dict into the noised encoder\n",
    "missing, unexpected = noised_encoder.load_state_dict(clean_ckpt, strict=False)\n",
    "if missing:\n",
    "    print(f\"[load_state_dict] Missing keys: {len(missing)} (showing first 10)\\n\", missing[:10])\n",
    "if unexpected:\n",
    "    print(f\"[load_state_dict] Unexpected keys: {len(unexpected)} (showing first 10)\\n\", unexpected[:10])\n",
    "noised_encoder.eval()\n",
    "print(\"Model loaded to:\", device)"
   ]
  },
  {
   "cell_type": "code",
   "execution_count": 34,
   "metadata": {},
   "outputs": [],
   "source": [
    "\n",
    "def run_model_over_text(model, text: str) -> float:\n",
    "    inputs = tokenizer(text, return_tensors=\"pt\", padding=True, truncation=True, max_length=256)\n",
    "    inputs = {k: v.to(device) for k, v in inputs.items()}\n",
    "    with torch.no_grad():\n",
    "        res = model(input_ids=inputs[\"input_ids\"], attention_mask=inputs.get(\"attention_mask\"))\n",
    "    # preds shape: (batch,) -> take scalar\n",
    "    return res"
   ]
  },
  {
   "cell_type": "code",
   "execution_count": 35,
   "metadata": {},
   "outputs": [
    {
     "name": "stdout",
     "output_type": "stream",
     "text": [
      "MaskedLMOutput(loss=None, logits=tensor([[[ -9.2823,  -9.2035,  -9.2564,  ...,  -8.9687,  -8.7790,  -9.1370],\n",
      "         [-11.5207, -10.9052, -10.7849,  ...,  -8.9367,  -8.1311,  -9.7978],\n",
      "         [-14.0182, -14.2658, -14.0961,  ..., -10.7366, -10.5054, -11.6423],\n",
      "         ...,\n",
      "         [-11.7990, -11.6905, -12.1672,  ..., -11.3576, -10.9677, -11.5446],\n",
      "         [-11.9769, -11.8335, -11.6036,  ..., -10.7477, -10.2442, -11.4482],\n",
      "         [ -9.9157,  -9.4814,  -9.4806,  ...,  -8.2701,  -8.3781,  -8.9941]]]), hidden_states=None, attentions=None)\n",
      "MaskedLMOutput(loss=None, logits=tensor([[[-8.2281, -8.3524, -7.7910,  ..., -6.6339, -6.9057, -6.1463],\n",
      "         [-7.7523, -8.1757, -7.4527,  ..., -6.8175, -6.5724, -5.9234],\n",
      "         [-8.4843, -8.9459, -8.0856,  ..., -7.2133, -6.9029, -6.5164],\n",
      "         ...,\n",
      "         [-8.7283, -8.5921, -8.0858,  ..., -7.0931, -7.4747, -6.7143],\n",
      "         [-8.5823, -8.4527, -7.8191,  ..., -6.6339, -6.9772, -6.2922],\n",
      "         [-7.5783, -7.7716, -7.0237,  ..., -5.8092, -6.3345, -5.4909]]]), hidden_states=None, attentions=None)\n",
      "MaskedLMOutput(loss=None, logits=tensor([[[ -9.2832,  -9.2040,  -9.2567,  ...,  -8.9690,  -8.7796,  -9.1376],\n",
      "         [-11.5206, -10.9043, -10.7845,  ...,  -8.9374,  -8.1296,  -9.7991],\n",
      "         [-14.0221, -14.2676, -14.0994,  ..., -10.7386, -10.5068, -11.6463],\n",
      "         ...,\n",
      "         [-11.8005, -11.6899, -12.1679,  ..., -11.3584, -10.9678, -11.5474],\n",
      "         [-11.9770, -11.8328, -11.6029,  ..., -10.7475, -10.2424, -11.4505],\n",
      "         [ -9.9145,  -9.4798,  -9.4791,  ...,  -8.2684,  -8.3756,  -8.9940]]]), hidden_states=None, attentions=None)\n"
     ]
    }
   ],
   "source": [
    "example_text = \"This is a sample historical text snippet to test the model.\"\n",
    "print(run_model_over_text(encoder, example_text))\n",
    "print(run_model_over_text(noised_encoder, example_text))\n",
    "print(run_model_over_text(new_noised_encoder, example_text))"
   ]
  },
  {
   "cell_type": "code",
   "execution_count": 36,
   "metadata": {},
   "outputs": [],
   "source": [
    "def predict_masked_word(text: str, tokenizer, model, k=5):\n",
    "\n",
    "    # 3. Tokenize the input\n",
    "    inputs = tokenizer(text, return_tensors=\"pt\")\n",
    "\n",
    "    # 4. Find the position of the mask token\n",
    "    mask_token_index = torch.where(inputs[\"input_ids\"] == tokenizer.mask_token_id)[1]\n",
    "\n",
    "    # 5. Get model predictions\n",
    "    with torch.no_grad():\n",
    "        outputs = model(**inputs)\n",
    "        predictions = outputs.logits\n",
    "\n",
    "    # 6. Get the top predicted tokens for the mask\n",
    "    mask_token_logits = predictions[0, mask_token_index, :]\n",
    "    top_k_tokens = torch.topk(mask_token_logits, k, dim=1).indices.squeeze().tolist()\n",
    "\n",
    "    # 7. Decode and print the predictions\n",
    "    results = []\n",
    "    for token_id in top_k_tokens:\n",
    "        print(f\"Predicted: {tokenizer.decode([token_id])}\")\n",
    "        results.append(tokenizer.decode([token_id]))\n",
    "    return results\n"
   ]
  },
  {
   "cell_type": "code",
   "execution_count": 52,
   "metadata": {},
   "outputs": [
    {
     "name": "stdout",
     "output_type": "stream",
     "text": [
      "Using encoder: BertForMaskedLM\n",
      "Predicted: Paris\n",
      "Predicted: Rome\n",
      "Predicted: Metz\n",
      "Predicted: d\n",
      "Predicted: Strasbourg\n",
      "Using encoder: BertForMaskedLM\n",
      "Predicted: ,\n",
      "Predicted: '\n",
      "Predicted: )\n",
      "Predicted: :\n",
      "Predicted: a\n",
      "Using encoder: NoisedEncoder\n",
      "Predicted: France\n",
      "Predicted: .\n",
      "Predicted: Paris\n",
      "Predicted: ,\n",
      "Predicted: -\n"
     ]
    }
   ],
   "source": [
    "for enc in [encoder, noised_encoder, new_noised_encoder]:\n",
    "    print(\"Using encoder:\", enc.__class__.__name__)\n",
    "    predict_masked_word(f\"The capital of France is {tokenizer.mask_token}.\", tokenizer, enc)\n"
   ]
  },
  {
   "cell_type": "code",
   "execution_count": null,
   "metadata": {},
   "outputs": [],
   "source": []
  }
 ],
 "metadata": {
  "kernelspec": {
   "display_name": "nlp_final_project",
   "language": "python",
   "name": "python3"
  },
  "language_info": {
   "codemirror_mode": {
    "name": "ipython",
    "version": 3
   },
   "file_extension": ".py",
   "mimetype": "text/x-python",
   "name": "python",
   "nbconvert_exporter": "python",
   "pygments_lexer": "ipython3",
   "version": "3.13.5"
  }
 },
 "nbformat": 4,
 "nbformat_minor": 2
}
