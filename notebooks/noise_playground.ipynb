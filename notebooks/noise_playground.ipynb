{
 "cells": [
  {
   "cell_type": "code",
<<<<<<< HEAD
   "execution_count": 17,
   "metadata": {},
   "outputs": [],
   "source": [
    "import os, sys, torch\n",
    "from transformers import AutoModel, AutoTokenizer, AutoModelForMaskedLM\n",
=======
   "execution_count": 1,
   "metadata": {},
   "outputs": [
    {
     "name": "stderr",
     "output_type": "stream",
     "text": [
      "/Users/yonatan/.conda/envs/nlp_final_project/lib/python3.13/site-packages/tqdm/auto.py:21: TqdmWarning: IProgress not found. Please update jupyter and ipywidgets. See https://ipywidgets.readthedocs.io/en/stable/user_install.html\n",
      "  from .autonotebook import tqdm as notebook_tqdm\n"
     ]
    }
   ],
   "source": [
    "import os, sys, torch\n",
    "from transformers import AutoModel, AutoTokenizer\n",
>>>>>>> 6f1be33 (Moved some stuff, renamed some other)
    "from omegaconf import DictConfig, OmegaConf\n",
    "from hydra.utils import instantiate"
   ]
  },
  {
   "cell_type": "code",
<<<<<<< HEAD
   "execution_count": 18,
=======
   "execution_count": 2,
>>>>>>> 6f1be33 (Moved some stuff, renamed some other)
   "metadata": {},
   "outputs": [],
   "source": [
    "sys.path.append(\"../\")\n",
<<<<<<< HEAD
    "from src.models.noised_encoder import NoisedEncoder\n"
=======
    "from src.models.model_head import HistoricalTextDatingModel, create_model_head_config\n",
    "from src.utils import init_tracker, DataLoadAndFilter\n"
>>>>>>> 6f1be33 (Moved some stuff, renamed some other)
   ]
  },
  {
   "cell_type": "code",
<<<<<<< HEAD
   "execution_count": 19,
=======
   "execution_count": null,
>>>>>>> 6f1be33 (Moved some stuff, renamed some other)
   "metadata": {},
   "outputs": [],
   "source": [
    "# 1) Set your checkpoint path here\n",
<<<<<<< HEAD
    "ckpt_base_path = \"../outputs/noise-adding/google-bert/bert-base-multilingual-cased/2025-09-22/04-45-25/\"\n",
    "ckpt_path = ckpt_base_path + \"None_noise_std0.01_noise_typegaussian.pt\"\n",
    "config_path = ckpt_base_path + \".hydra/config.yaml\"\n",
=======
    "ckpt_base_path = \"../outputs/noise-adding/google-bert/bert-base-multilingual-cased/2025-09-22/01-53-30/\"\n",
    "ckpt_path = ckpt_base_path + \"None_noise_std0.01_noise_typegaussian.pt\"\n",
>>>>>>> 6f1be33 (Moved some stuff, renamed some other)
    "\n",
    "if not os.path.exists(ckpt_path):\n",
    "    raise FileNotFoundError(f\"Checkpoint path does not exist: {ckpt_path}\")\n",
    "if not os.path.exists(config_path):\n",
    "    raise FileNotFoundError(f\"Config path does not exist: {config_path}\")\n",
    "device = torch.device(\"cuda\" if torch.cuda.is_available() else \"cpu\")"
   ]
  },
  {
   "cell_type": "code",
<<<<<<< HEAD
=======
   "execution_count": 4,
   "metadata": {},
   "outputs": [],
   "source": [
    "ckpt = torch.load(ckpt_path, map_location=device)"
   ]
  },
  {
   "cell_type": "code",
>>>>>>> 6f1be33 (Moved some stuff, renamed some other)
   "execution_count": null,
   "metadata": {},
   "outputs": [],
   "source": [
<<<<<<< HEAD
    "ckpt = torch.load(ckpt_path, map_location=device)\n",
=======
>>>>>>> 6f1be33 (Moved some stuff, renamed some other)
    "cfg = OmegaConf.load(config_path)"
   ]
  },
  {
   "cell_type": "code",
<<<<<<< HEAD
   "execution_count": 29,
=======
   "execution_count": 6,
>>>>>>> 6f1be33 (Moved some stuff, renamed some other)
   "metadata": {},
   "outputs": [
    {
     "name": "stderr",
     "output_type": "stream",
     "text": [
<<<<<<< HEAD
      "Some weights of the model checkpoint at google-bert/bert-base-multilingual-cased were not used when initializing BertForMaskedLM: ['bert.pooler.dense.bias', 'bert.pooler.dense.weight', 'cls.seq_relationship.bias', 'cls.seq_relationship.weight']\n",
      "- This IS expected if you are initializing BertForMaskedLM from the checkpoint of a model trained on another task or with another architecture (e.g. initializing a BertForSequenceClassification model from a BertForPreTraining model).\n",
      "- This IS NOT expected if you are initializing BertForMaskedLM from the checkpoint of a model that you expect to be exactly identical (initializing a BertForSequenceClassification model from a BertForSequenceClassification model).\n",
      "Some weights of the model checkpoint at google-bert/bert-base-multilingual-cased were not used when initializing BertForMaskedLM: ['bert.pooler.dense.bias', 'bert.pooler.dense.weight', 'cls.seq_relationship.bias', 'cls.seq_relationship.weight']\n",
      "- This IS expected if you are initializing BertForMaskedLM from the checkpoint of a model trained on another task or with another architecture (e.g. initializing a BertForSequenceClassification model from a BertForPreTraining model).\n",
      "- This IS NOT expected if you are initializing BertForMaskedLM from the checkpoint of a model that you expect to be exactly identical (initializing a BertForSequenceClassification model from a BertForSequenceClassification model).\n"
=======
      "Error loading schema ../data/raw/SefariaData/Sefaria-Export-master/schemas/Sheet.json: Expecting value: line 1 column 1 (char 0)\n",
      "Loading Sefaria texts: 100%|██████████| 100/100 [00:02<00:00, 35.78it/s]\n",
      "Loading Ben Yehuda texts: 100%|██████████| 100/100 [00:00<00:00, 3536.84it/s]\n"
>>>>>>> 6f1be33 (Moved some stuff, renamed some other)
     ]
    }
   ],
   "source": [
<<<<<<< HEAD
    "# Load the model and tokenizer\n",
    "tokenizer = instantiate(cfg.model.tokenizer)\n",
    "encoder = instantiate(cfg.model.encoder)\n",
    "noised_encoder = instantiate(cfg.model.encoder)"
=======
    "\n",
    "# Load the model and tokenizer\n",
    "tokenizer = instantiate(cfg.model.tokenizer)\n",
    "encoder = instantiate(cfg.model.encoder)\n",
    "\n",
    "model_head_config = create_model_head_config(**cfg.model.model_head.head_config)\n",
    "\n",
    "# Load datasets using the data loader\n",
    "data_loader = DataLoadAndFilter(cfg)\n",
    "train_dataset, eval_dataset = data_loader.create_tokenized_datasets(tokenizer, base_path=\"../\")\n",
    "\n",
    "model_head_config[\"num_classes\"] = len(train_dataset[0][1])\n"
>>>>>>> 6f1be33 (Moved some stuff, renamed some other)
   ]
  },
  {
   "cell_type": "code",
<<<<<<< HEAD
   "execution_count": null,
=======
   "execution_count": 7,
   "metadata": {},
   "outputs": [
    {
     "data": {
      "text/plain": [
       "{'hidden_sizes': [384, 128], 'dropout_rate': 0.1, 'activation': 'relu', 'pooling_strategy': 'cls', 'num_classes': 28}"
      ]
     },
     "execution_count": 7,
     "metadata": {},
     "output_type": "execute_result"
    }
   ],
   "source": [
    "model_head_config"
   ]
  },
  {
   "cell_type": "code",
   "execution_count": 8,
   "metadata": {},
   "outputs": [],
   "source": [
    "model = HistoricalTextDatingModel(\n",
    "    encoder=encoder,\n",
    "    head_config=model_head_config,\n",
    "    freeze_encoder=True,  # Freeze encoder to not change bert\n",
    ")"
   ]
  },
  {
   "cell_type": "code",
   "execution_count": 9,
>>>>>>> 6f1be33 (Moved some stuff, renamed some other)
   "metadata": {},
   "outputs": [],
   "source": [
    "def _clean_state_dict(state_dict: dict) -> dict:\n",
<<<<<<< HEAD
    "    if not any(k.startswith(\"encoder.\") for k in state_dict.keys()):\n",
    "        return state_dict\n",
    "    return {k.replace(\"encoder.\", \"\", 1): v for k, v in state_dict.items()}\n",
=======
    "    if not any(k.startswith(\"module.\") for k in state_dict.keys()):\n",
    "        return state_dict\n",
    "    return {k.replace(\"module.\", \"\", 1): v for k, v in state_dict.items()}"
   ]
  },
  {
   "cell_type": "code",
   "execution_count": 10,
   "metadata": {},
   "outputs": [],
   "source": [
>>>>>>> 6f1be33 (Moved some stuff, renamed some other)
    "clean_ckpt = _clean_state_dict(ckpt)"
   ]
  },
  {
   "cell_type": "code",
<<<<<<< HEAD
   "execution_count": null,
=======
   "execution_count": 11,
   "metadata": {},
   "outputs": [
    {
     "ename": "RuntimeError",
     "evalue": "Error(s) in loading state_dict for HistoricalTextDatingModel:\n\tsize mismatch for head.head.6.weight: copying a param with shape torch.Size([36, 128]) from checkpoint, the shape in current model is torch.Size([28, 128]).\n\tsize mismatch for head.head.6.bias: copying a param with shape torch.Size([36]) from checkpoint, the shape in current model is torch.Size([28]).",
     "output_type": "error",
     "traceback": [
      "\u001b[31m---------------------------------------------------------------------------\u001b[39m",
      "\u001b[31mRuntimeError\u001b[39m                              Traceback (most recent call last)",
      "\u001b[36mCell\u001b[39m\u001b[36m \u001b[39m\u001b[32mIn[11]\u001b[39m\u001b[32m, line 1\u001b[39m\n\u001b[32m----> \u001b[39m\u001b[32m1\u001b[39m missing, unexpected = \u001b[43mmodel\u001b[49m\u001b[43m.\u001b[49m\u001b[43mload_state_dict\u001b[49m\u001b[43m(\u001b[49m\u001b[43mclean_ckpt\u001b[49m\u001b[43m,\u001b[49m\u001b[43m \u001b[49m\u001b[43mstrict\u001b[49m\u001b[43m=\u001b[49m\u001b[38;5;28;43;01mFalse\u001b[39;49;00m\u001b[43m)\u001b[49m\n\u001b[32m      2\u001b[39m \u001b[38;5;28;01mif\u001b[39;00m missing:\n\u001b[32m      3\u001b[39m     \u001b[38;5;28mprint\u001b[39m(\u001b[33mf\u001b[39m\u001b[33m\"\u001b[39m\u001b[33m[load_state_dict] Missing keys: \u001b[39m\u001b[38;5;132;01m{\u001b[39;00m\u001b[38;5;28mlen\u001b[39m(missing)\u001b[38;5;132;01m}\u001b[39;00m\u001b[33m (showing first 10)\u001b[39m\u001b[38;5;130;01m\\n\u001b[39;00m\u001b[33m\"\u001b[39m, missing[:\u001b[32m10\u001b[39m])\n",
      "\u001b[36mFile \u001b[39m\u001b[32m~/.conda/envs/nlp_final_project/lib/python3.13/site-packages/torch/nn/modules/module.py:2624\u001b[39m, in \u001b[36mModule.load_state_dict\u001b[39m\u001b[34m(self, state_dict, strict, assign)\u001b[39m\n\u001b[32m   2616\u001b[39m         error_msgs.insert(\n\u001b[32m   2617\u001b[39m             \u001b[32m0\u001b[39m,\n\u001b[32m   2618\u001b[39m             \u001b[33m\"\u001b[39m\u001b[33mMissing key(s) in state_dict: \u001b[39m\u001b[38;5;132;01m{}\u001b[39;00m\u001b[33m. \u001b[39m\u001b[33m\"\u001b[39m.format(\n\u001b[32m   2619\u001b[39m                 \u001b[33m\"\u001b[39m\u001b[33m, \u001b[39m\u001b[33m\"\u001b[39m.join(\u001b[33mf\u001b[39m\u001b[33m'\u001b[39m\u001b[33m\"\u001b[39m\u001b[38;5;132;01m{\u001b[39;00mk\u001b[38;5;132;01m}\u001b[39;00m\u001b[33m\"\u001b[39m\u001b[33m'\u001b[39m \u001b[38;5;28;01mfor\u001b[39;00m k \u001b[38;5;129;01min\u001b[39;00m missing_keys)\n\u001b[32m   2620\u001b[39m             ),\n\u001b[32m   2621\u001b[39m         )\n\u001b[32m   2623\u001b[39m \u001b[38;5;28;01mif\u001b[39;00m \u001b[38;5;28mlen\u001b[39m(error_msgs) > \u001b[32m0\u001b[39m:\n\u001b[32m-> \u001b[39m\u001b[32m2624\u001b[39m     \u001b[38;5;28;01mraise\u001b[39;00m \u001b[38;5;167;01mRuntimeError\u001b[39;00m(\n\u001b[32m   2625\u001b[39m         \u001b[33m\"\u001b[39m\u001b[33mError(s) in loading state_dict for \u001b[39m\u001b[38;5;132;01m{}\u001b[39;00m\u001b[33m:\u001b[39m\u001b[38;5;130;01m\\n\u001b[39;00m\u001b[38;5;130;01m\\t\u001b[39;00m\u001b[38;5;132;01m{}\u001b[39;00m\u001b[33m\"\u001b[39m.format(\n\u001b[32m   2626\u001b[39m             \u001b[38;5;28mself\u001b[39m.\u001b[34m__class__\u001b[39m.\u001b[34m__name__\u001b[39m, \u001b[33m\"\u001b[39m\u001b[38;5;130;01m\\n\u001b[39;00m\u001b[38;5;130;01m\\t\u001b[39;00m\u001b[33m\"\u001b[39m.join(error_msgs)\n\u001b[32m   2627\u001b[39m         )\n\u001b[32m   2628\u001b[39m     )\n\u001b[32m   2629\u001b[39m \u001b[38;5;28;01mreturn\u001b[39;00m _IncompatibleKeys(missing_keys, unexpected_keys)\n",
      "\u001b[31mRuntimeError\u001b[39m: Error(s) in loading state_dict for HistoricalTextDatingModel:\n\tsize mismatch for head.head.6.weight: copying a param with shape torch.Size([36, 128]) from checkpoint, the shape in current model is torch.Size([28, 128]).\n\tsize mismatch for head.head.6.bias: copying a param with shape torch.Size([36]) from checkpoint, the shape in current model is torch.Size([28])."
     ]
    }
   ],
   "source": [
    "missing, unexpected = model.load_state_dict(clean_ckpt, strict=False)\n",
    "if missing:\n",
    "    print(f\"[load_state_dict] Missing keys: {len(missing)} (showing first 10)\\n\", missing[:10])\n",
    "if unexpected:\n",
    "    print(f\"[load_state_dict] Unexpected keys: {len(unexpected)} (showing first 10)\\n\", unexpected[:10])\n",
    "model.eval()\n"
   ]
  },
  {
   "cell_type": "code",
   "execution_count": 23,
>>>>>>> 6f1be33 (Moved some stuff, renamed some other)
   "metadata": {},
   "outputs": [
    {
     "name": "stdout",
     "output_type": "stream",
     "text": [
      "Model loaded to: cpu\n"
     ]
    }
   ],
   "source": [
<<<<<<< HEAD
    "# Load state dict into the noised encoder\n",
    "missing, unexpected = noised_encoder.load_state_dict(clean_ckpt, strict=False)\n",
    "if missing:\n",
    "    print(f\"[load_state_dict] Missing keys: {len(missing)} (showing first 10)\\n\", missing[:10])\n",
    "if unexpected:\n",
    "    print(f\"[load_state_dict] Unexpected keys: {len(unexpected)} (showing first 10)\\n\", unexpected[:10])\n",
    "noised_encoder.eval()\n",
    "print(\"Model loaded to:\", device)"
=======
    "print(\"Model loaded to:\", device)\n"
>>>>>>> 6f1be33 (Moved some stuff, renamed some other)
   ]
  },
  {
   "cell_type": "code",
<<<<<<< HEAD
   "execution_count": 36,
=======
   "execution_count": 30,
>>>>>>> 6f1be33 (Moved some stuff, renamed some other)
   "metadata": {},
   "outputs": [],
   "source": [
    "\n",
<<<<<<< HEAD
    "def run_model_over_text(model, text: str) -> float:\n",
    "    inputs = tokenizer(text, return_tensors=\"pt\", padding=True, truncation=True, max_length=256)\n",
    "    inputs = {k: v.to(device) for k, v in inputs.items()}\n",
    "    with torch.no_grad():\n",
    "        res = model(input_ids=inputs[\"input_ids\"], attention_mask=inputs.get(\"attention_mask\"))\n",
    "    # preds shape: (batch,) -> take scalar\n",
    "    return res"
=======
    "def predict_date(text: str) -> float:\n",
    "    inputs = tokenizer(text, return_tensors=\"pt\", padding=True, truncation=True, max_length=256)\n",
    "    inputs = {k: v.to(device) for k, v in inputs.items()}\n",
    "    with torch.no_grad():\n",
    "        preds, _ = model(input_ids=inputs[\"input_ids\"], attention_mask=inputs.get(\"attention_mask\"))\n",
    "    # preds shape: (batch,) -> take scalar\n",
    "    return preds[0]"
>>>>>>> 6f1be33 (Moved some stuff, renamed some other)
   ]
  },
  {
   "cell_type": "code",
<<<<<<< HEAD
   "execution_count": 38,
   "metadata": {},
   "outputs": [
    {
     "name": "stdout",
     "output_type": "stream",
     "text": [
      "MaskedLMOutput(loss=None, logits=tensor([[[ -9.2823,  -9.2035,  -9.2564,  ...,  -8.9687,  -8.7790,  -9.1370],\n",
      "         [-11.5207, -10.9052, -10.7849,  ...,  -8.9367,  -8.1311,  -9.7978],\n",
      "         [-14.0182, -14.2658, -14.0961,  ..., -10.7366, -10.5054, -11.6423],\n",
      "         ...,\n",
      "         [-11.7990, -11.6905, -12.1672,  ..., -11.3576, -10.9677, -11.5446],\n",
      "         [-11.9769, -11.8335, -11.6036,  ..., -10.7477, -10.2442, -11.4482],\n",
      "         [ -9.9157,  -9.4814,  -9.4806,  ...,  -8.2701,  -8.3781,  -8.9941]]]), hidden_states=None, attentions=None)\n",
      "MaskedLMOutput(loss=None, logits=tensor([[[-8.2281, -8.3524, -7.7910,  ..., -6.6339, -6.9057, -6.1463],\n",
      "         [-7.7523, -8.1757, -7.4527,  ..., -6.8175, -6.5724, -5.9234],\n",
      "         [-8.4843, -8.9459, -8.0856,  ..., -7.2133, -6.9029, -6.5164],\n",
      "         ...,\n",
      "         [-8.7283, -8.5921, -8.0858,  ..., -7.0931, -7.4747, -6.7143],\n",
      "         [-8.5823, -8.4527, -7.8191,  ..., -6.6339, -6.9772, -6.2922],\n",
      "         [-7.5783, -7.7716, -7.0237,  ..., -5.8092, -6.3345, -5.4909]]]), hidden_states=None, attentions=None)\n"
     ]
    }
   ],
   "source": [
    "example_text = \"This is a sample historical text snippet to test the model.\"\n",
    "print(run_model_over_text(encoder, example_text))\n",
    "print(run_model_over_text(noised_encoder, example_text))"
   ]
  },
  {
   "cell_type": "code",
   "execution_count": null,
   "metadata": {},
   "outputs": [],
   "source": [
    "def predict_masked_word(text: str, tokenizer, model, k=5):\n",
    "\n",
    "    # 3. Tokenize the input\n",
    "    inputs = tokenizer(text, return_tensors=\"pt\")\n",
    "\n",
    "    # 4. Find the position of the mask token\n",
    "    mask_token_index = torch.where(inputs[\"input_ids\"] == tokenizer.mask_token_id)[1]\n",
    "\n",
    "    # 5. Get model predictions\n",
    "    with torch.no_grad():\n",
    "        outputs = model(**inputs)\n",
    "        predictions = outputs.logits\n",
    "\n",
    "    # 6. Get the top predicted tokens for the mask\n",
    "    mask_token_logits = predictions[0, mask_token_index, :]\n",
    "    top_k_tokens = torch.topk(mask_token_logits, k, dim=1).indices.squeeze().tolist()\n",
    "\n",
    "    # 7. Decode and print the predictions\n",
    "    results = []\n",
    "    for token_id in top_k_tokens:\n",
    "        print(f\"Predicted: {tokenizer.decode([token_id])}\")\n",
    "        results.append(tokenizer.decode([token_id]))\n",
    "    return results\n"
   ]
  },
  {
   "cell_type": "code",
   "execution_count": 40,
   "metadata": {},
   "outputs": [
    {
     "name": "stdout",
     "output_type": "stream",
     "text": [
      "Predicted: Paris\n",
      "Predicted: Rome\n",
      "Predicted: Metz\n",
      "Predicted: d\n",
      "Predicted: Strasbourg\n"
     ]
    },
    {
     "data": {
      "text/plain": [
       "['Paris', 'Rome', 'Metz', 'd', 'Strasbourg']"
      ]
     },
     "execution_count": 40,
     "metadata": {},
     "output_type": "execute_result"
    }
   ],
   "source": [
    "predict_masked_word(f\"The capital of France is {tokenizer.mask_token}.\", tokenizer, encoder)"
   ]
  },
  {
   "cell_type": "code",
   "execution_count": 41,
   "metadata": {},
   "outputs": [
    {
     "name": "stdout",
     "output_type": "stream",
     "text": [
      "Predicted: ,\n",
      "Predicted: '\n",
      "Predicted: )\n",
      "Predicted: :\n",
      "Predicted: a\n"
     ]
    },
    {
     "data": {
      "text/plain": [
       "[',', \"'\", ')', ':', 'a']"
      ]
     },
     "execution_count": 41,
     "metadata": {},
     "output_type": "execute_result"
    }
   ],
   "source": [
    "predict_masked_word(f\"The capital of France is {tokenizer.mask_token}.\", tokenizer, noised_encoder)"
   ]
  },
  {
   "cell_type": "code",
   "execution_count": null,
   "metadata": {},
   "outputs": [],
   "source": []
=======
   "execution_count": null,
   "metadata": {},
   "outputs": [],
   "source": [
    "example_text = \"This is a sample historical text snippet to test the model.\"\n",
    "print(\"Predicted date:\", predict_date(example_text))\n"
   ]
>>>>>>> 6f1be33 (Moved some stuff, renamed some other)
  }
 ],
 "metadata": {
  "kernelspec": {
   "display_name": "nlp_final_project",
   "language": "python",
   "name": "python3"
  },
  "language_info": {
   "codemirror_mode": {
    "name": "ipython",
    "version": 3
   },
   "file_extension": ".py",
   "mimetype": "text/x-python",
   "name": "python",
   "nbconvert_exporter": "python",
   "pygments_lexer": "ipython3",
   "version": "3.13.5"
  }
 },
 "nbformat": 4,
 "nbformat_minor": 2
}
